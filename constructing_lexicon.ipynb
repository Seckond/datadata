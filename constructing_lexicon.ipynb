{
 "cells": [
  {
   "cell_type": "markdown",
   "metadata": {},
   "source": [
    "# Constructing the spanish NRC lexicon"
   ]
  },
  {
   "cell_type": "code",
   "execution_count": 24,
   "metadata": {},
   "outputs": [],
   "source": [
    "import pandas as pd"
   ]
  },
  {
   "cell_type": "code",
   "execution_count": 25,
   "metadata": {},
   "outputs": [
    {
     "data": {
      "text/html": [
       "<div>\n",
       "<style>\n",
       "    .dataframe thead tr:only-child th {\n",
       "        text-align: right;\n",
       "    }\n",
       "\n",
       "    .dataframe thead th {\n",
       "        text-align: left;\n",
       "    }\n",
       "\n",
       "    .dataframe tbody tr th {\n",
       "        vertical-align: top;\n",
       "    }\n",
       "</style>\n",
       "<table border=\"1\" class=\"dataframe\">\n",
       "  <thead>\n",
       "    <tr style=\"text-align: right;\">\n",
       "      <th></th>\n",
       "      <th>English Word</th>\n",
       "      <th>Spanish Translation (Google Translate)</th>\n",
       "      <th>Anger</th>\n",
       "      <th>Anticipation</th>\n",
       "      <th>Disgust</th>\n",
       "      <th>Fear</th>\n",
       "      <th>Joy</th>\n",
       "      <th>Negative</th>\n",
       "      <th>Positive</th>\n",
       "      <th>Sadness</th>\n",
       "      <th>Surprise</th>\n",
       "      <th>Trust</th>\n",
       "    </tr>\n",
       "  </thead>\n",
       "  <tbody>\n",
       "    <tr>\n",
       "      <th>10160</th>\n",
       "      <td>ranch</td>\n",
       "      <td>rancho</td>\n",
       "      <td>0</td>\n",
       "      <td>0</td>\n",
       "      <td>0</td>\n",
       "      <td>0</td>\n",
       "      <td>0</td>\n",
       "      <td>0</td>\n",
       "      <td>0</td>\n",
       "      <td>0</td>\n",
       "      <td>0</td>\n",
       "      <td>0</td>\n",
       "    </tr>\n",
       "    <tr>\n",
       "      <th>93</th>\n",
       "      <td>accomplished</td>\n",
       "      <td>realizado</td>\n",
       "      <td>0</td>\n",
       "      <td>0</td>\n",
       "      <td>0</td>\n",
       "      <td>0</td>\n",
       "      <td>1</td>\n",
       "      <td>0</td>\n",
       "      <td>1</td>\n",
       "      <td>0</td>\n",
       "      <td>0</td>\n",
       "      <td>0</td>\n",
       "    </tr>\n",
       "    <tr>\n",
       "      <th>12529</th>\n",
       "      <td>tangled</td>\n",
       "      <td>enredado</td>\n",
       "      <td>0</td>\n",
       "      <td>0</td>\n",
       "      <td>0</td>\n",
       "      <td>0</td>\n",
       "      <td>0</td>\n",
       "      <td>1</td>\n",
       "      <td>0</td>\n",
       "      <td>0</td>\n",
       "      <td>0</td>\n",
       "      <td>0</td>\n",
       "    </tr>\n",
       "    <tr>\n",
       "      <th>1562</th>\n",
       "      <td>broom</td>\n",
       "      <td>escoba</td>\n",
       "      <td>0</td>\n",
       "      <td>0</td>\n",
       "      <td>0</td>\n",
       "      <td>0</td>\n",
       "      <td>0</td>\n",
       "      <td>0</td>\n",
       "      <td>0</td>\n",
       "      <td>0</td>\n",
       "      <td>0</td>\n",
       "      <td>0</td>\n",
       "    </tr>\n",
       "    <tr>\n",
       "      <th>11845</th>\n",
       "      <td>spiral</td>\n",
       "      <td>espiral</td>\n",
       "      <td>0</td>\n",
       "      <td>0</td>\n",
       "      <td>0</td>\n",
       "      <td>0</td>\n",
       "      <td>0</td>\n",
       "      <td>0</td>\n",
       "      <td>0</td>\n",
       "      <td>0</td>\n",
       "      <td>0</td>\n",
       "      <td>0</td>\n",
       "    </tr>\n",
       "  </tbody>\n",
       "</table>\n",
       "</div>"
      ],
      "text/plain": [
       "       English Word Spanish Translation (Google Translate)  Anger  \\\n",
       "10160         ranch                                 rancho      0   \n",
       "93     accomplished                              realizado      0   \n",
       "12529       tangled                               enredado      0   \n",
       "1562          broom                                 escoba      0   \n",
       "11845        spiral                                espiral      0   \n",
       "\n",
       "       Anticipation  Disgust  Fear  Joy  Negative  Positive  Sadness  \\\n",
       "10160             0        0     0    0         0         0        0   \n",
       "93                0        0     0    1         0         1        0   \n",
       "12529             0        0     0    0         1         0        0   \n",
       "1562              0        0     0    0         0         0        0   \n",
       "11845             0        0     0    0         0         0        0   \n",
       "\n",
       "       Surprise  Trust  \n",
       "10160         0      0  \n",
       "93            0      0  \n",
       "12529         0      0  \n",
       "1562          0      0  \n",
       "11845         0      0  "
      ]
     },
     "execution_count": 25,
     "metadata": {},
     "output_type": "execute_result"
    }
   ],
   "source": [
    "xlsx = pd.read_excel(\"data/NRC-Emotion-Lexicon-v0.92-InManyLanguages.xlsx\")\n",
    "xlsx = xlsx[['English Word', 'Spanish Translation (Google Translate)', 'Anger', \n",
    "             'Anticipation', 'Disgust', 'Fear','Joy', 'Negative', 'Positive', \n",
    "             'Sadness', 'Surprise', 'Trust']]\n",
    "xlsx.sample(5)\n"
   ]
  },
  {
   "cell_type": "code",
   "execution_count": 26,
   "metadata": {},
   "outputs": [],
   "source": [
    "xlsx.columns = ['english', 'spanish', 'anger', \n",
    "             'anticipation', 'disgust', 'fear','joy', 'negative', 'positive', \n",
    "             'sadness', 'surprise', 'trust']\n",
    "columns_to_iterate = ['anger', \n",
    "             'anticipation', 'disgust', 'fear','joy', 'negative', 'positive', \n",
    "             'sadness', 'surprise', 'trust']\n"
   ]
  },
  {
   "cell_type": "markdown",
   "metadata": {},
   "source": [
    "Annotations at WORD LEVEL (file: NRC-Emotion-Lexicon-Wordlevel-v0.92.txt)\n",
    "\n",
    "Each line has the following format:\n",
    "\n",
    "_<term_>_<tab_>_<AffectCategory_>_<tab_>_<AssociationFlag_>\n",
    "\n",
    "_<term_> is a word for which emotion associations are provided;\n",
    "\n",
    "_<AffectCategory_> is one of eight emotions (anger, fear, anticipation, trust, surprise, sadness, joy, or disgust) or one of two polarities (negative or positive);\n",
    "\n",
    "_<AssociationFlag_> has one of two possible values: 0 or 1. 0 indicates that the target word has no association with affect category, whereas 1 indicates an association.\n"
   ]
  },
  {
   "cell_type": "code",
   "execution_count": 23,
   "metadata": {},
   "outputs": [],
   "source": [
    "with open('data/lexicon_spanish.txt', 'a') as f:\n",
    "    for index, a_word in xlsx.iterrows():\n",
    "        for a_column in columns_to_iterate:\n",
    "            line = \"%s\\t%s\\t%d\\n\" % (a_word['spanish'], a_column, a_word[a_column])\n",
    "            f.write(line)"
   ]
  },
  {
   "cell_type": "markdown",
   "metadata": {},
   "source": [
    "Sources:\n",
    "\n",
    "http://sentiment.nrc.ca/lexicons-for-research/ \n",
    "\n",
    "http://saifmohammad.com/WebPages/AccessResource.htm \n",
    "\n",
    "https://github.com/dropofwill/py-lex "
   ]
  },
  {
   "cell_type": "code",
   "execution_count": null,
   "metadata": {},
   "outputs": [],
   "source": []
  }
 ],
 "metadata": {
  "kernelspec": {
   "display_name": "Python 3",
   "language": "python",
   "name": "python3"
  },
  "language_info": {
   "codemirror_mode": {
    "name": "ipython",
    "version": 3
   },
   "file_extension": ".py",
   "mimetype": "text/x-python",
   "name": "python",
   "nbconvert_exporter": "python",
   "pygments_lexer": "ipython3",
   "version": "3.6.2"
  }
 },
 "nbformat": 4,
 "nbformat_minor": 2
}
