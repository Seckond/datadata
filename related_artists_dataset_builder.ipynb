{
 "cells": [
  {
   "cell_type": "markdown",
   "metadata": {},
   "source": [
    "## Spotify part - getting the related artists"
   ]
  },
  {
   "cell_type": "code",
   "execution_count": 6,
   "metadata": {
    "collapsed": true
   },
   "outputs": [],
   "source": [
    "import spotipy\n",
    "from spotipy.oauth2 import SpotifyClientCredentials\n",
    "import numpy as np\n",
    "import pandas as pd"
   ]
  },
  {
   "cell_type": "code",
   "execution_count": 7,
   "metadata": {
    "collapsed": true
   },
   "outputs": [],
   "source": [
    "# Establish a session and instantiate it\n",
    "client_credentials_manager = SpotifyClientCredentials(client_id='ccae2e7a3a0f48088d24563289eb71d0',\n",
    "                                                      client_secret='0204fbff5f2c438a816b7c01ede9d9ce')\n",
    "sp = spotipy.Spotify(client_credentials_manager=client_credentials_manager)"
   ]
  },
  {
   "cell_type": "code",
   "execution_count": 8,
   "metadata": {},
   "outputs": [
    {
     "name": "stdout",
     "output_type": "stream",
     "text": [
      "Related artists for Jorge Drexler\n",
      "['Kevin Johansen', 'Pedro Guerra', 'Fito Paez', 'Luis Alberto Spinetta', 'Pedro Aznar', 'Ismael Serrano', 'Martín Buscaglia', 'Ana Prada', 'Mercedes Sosa', 'Silvio Rodríguez', 'Joaquín Sabina', 'Fabiana Cantilo', 'Sui Generis', 'Luis Eduardo Aute', 'Charly García', 'Lisandro Aristimuño', 'Pescado Rabioso', 'Serú Girán', 'Andrés Calamaro', 'Onda Vaga']\n"
     ]
    }
   ],
   "source": [
    "artist_name = 'Jorge Drexler'\n",
    "related_artists = []\n",
    "result = sp.search(q='artist:' + artist_name, type='artist')\n",
    "try:\n",
    "    name = result['artists']['items'][0]['name']\n",
    "    uri = result['artists']['items'][0]['uri']\n",
    "\n",
    "    related = sp.artist_related_artists(uri)\n",
    "    print('Related artists for', name)\n",
    "    for artist in related['artists']:\n",
    "        related_artists.append(artist['name'])\n",
    "    print(related_artists)\n",
    "except:\n",
    "    print(\"Error!\")"
   ]
  },
  {
   "cell_type": "markdown",
   "metadata": {},
   "source": [
    "## Genius part - getting the lyrics for each"
   ]
  },
  {
   "cell_type": "code",
   "execution_count": 10,
   "metadata": {
    "collapsed": true
   },
   "outputs": [],
   "source": [
    "import requests\n",
    "import json\n",
    "import requests\n",
    "from bs4 import BeautifulSoup\n",
    "import re\n",
    "\n",
    "CLIENT_ACCESS_TOKEN = \"lTv0ZCyw1mkXQ7_9bZ9GmEdc9vPh2_VQzhFCpERSOYiFA1fXjEVrI8BY-D9_k6E2\"\n",
    "BASE_URI = \"https://api.genius.com\""
   ]
  },
  {
   "cell_type": "code",
   "execution_count": null,
   "metadata": {
    "collapsed": true
   },
   "outputs": [],
   "source": []
  }
 ],
 "metadata": {
  "kernelspec": {
   "display_name": "Python 3",
   "language": "python",
   "name": "python3"
  },
  "language_info": {
   "codemirror_mode": {
    "name": "ipython",
    "version": 3
   },
   "file_extension": ".py",
   "mimetype": "text/x-python",
   "name": "python",
   "nbconvert_exporter": "python",
   "pygments_lexer": "ipython3",
   "version": "3.6.2"
  }
 },
 "nbformat": 4,
 "nbformat_minor": 2
}
